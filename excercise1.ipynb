{
 "cells": [
  {
   "cell_type": "code",
   "execution_count": 1,
   "metadata": {},
   "outputs": [
    {
     "name": "stdout",
     "output_type": "stream",
     "text": [
      "Hello Excercise\n"
     ]
    }
   ],
   "source": [
    "print(\"Hello Excercise\")\n"
   ]
  },
  {
   "cell_type": "code",
   "execution_count": 2,
   "metadata": {},
   "outputs": [
    {
     "name": "stdout",
     "output_type": "stream",
     "text": [
      "Die Antwort: 42\n",
      "\n"
     ]
    }
   ],
   "source": [
    "print(\"Die Antwort: \" + str(42) + \"\\n\")"
   ]
  },
  {
   "cell_type": "code",
   "execution_count": 4,
   "metadata": {},
   "outputs": [
    {
     "name": "stdout",
     "output_type": "stream",
     "text": [
      "geben sie zwei zahlen ein2\n",
      "3\n"
     ]
    }
   ],
   "source": [
    "var1 ,var2 = float(input(\"geben sie zwei zahlen ein\")),float(input(\"\"))"
   ]
  },
  {
   "cell_type": "code",
   "execution_count": 5,
   "metadata": {},
   "outputs": [
    {
     "name": "stdout",
     "output_type": "stream",
     "text": [
      "Var eins ist eine ganze Zahl\n"
     ]
    }
   ],
   "source": [
    "if(var1 == var2):\n",
    "    print(\"gleich\")\n",
    "if(var1>var2):\n",
    "    print(\"var1 größer var2\")\n",
    "    \n",
    "if (int(var1) == var1):\n",
    "    print(\"Var eins ist eine ganze Zahl\")\n",
    "\n",
    "if (int(var2)!= var2):\n",
    "    print(\"var2 ist keine ganze Zahl\")"
   ]
  },
  {
   "cell_type": "code",
   "execution_count": null,
   "metadata": {},
   "outputs": [],
   "source": []
  },
  {
   "cell_type": "code",
   "execution_count": null,
   "metadata": {},
   "outputs": [],
   "source": []
  }
 ],
 "metadata": {
  "kernelspec": {
   "display_name": "Python 3",
   "language": "python",
   "name": "python3"
  },
  "language_info": {
   "codemirror_mode": {
    "name": "ipython",
    "version": 3
   },
   "file_extension": ".py",
   "mimetype": "text/x-python",
   "name": "python",
   "nbconvert_exporter": "python",
   "pygments_lexer": "ipython3",
   "version": "3.6.8"
  }
 },
 "nbformat": 4,
 "nbformat_minor": 2
}
