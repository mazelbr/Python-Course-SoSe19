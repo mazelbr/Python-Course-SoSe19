{
 "cells": [
  {
   "cell_type": "code",
   "execution_count": 49,
   "metadata": {},
   "outputs": [],
   "source": [
    "import math"
   ]
  },
  {
   "cell_type": "code",
   "execution_count": 21,
   "metadata": {},
   "outputs": [],
   "source": [
    "konstanten = {\"pi\": 3.14159265359, \"e\": 2.7182818284, \"phi\": 1.6180339887}"
   ]
  },
  {
   "cell_type": "code",
   "execution_count": 22,
   "metadata": {},
   "outputs": [
    {
     "data": {
      "text/plain": [
       "dict_keys(['pi', 'e', 'phi'])"
      ]
     },
     "execution_count": 22,
     "metadata": {},
     "output_type": "execute_result"
    }
   ],
   "source": [
    "konstanten.keys()"
   ]
  },
  {
   "cell_type": "code",
   "execution_count": 37,
   "metadata": {},
   "outputs": [
    {
     "name": "stdout",
     "output_type": "stream",
     "text": [
      "pi 3.14\n",
      "e 2.72\n",
      "phi 1.62\n"
     ]
    }
   ],
   "source": [
    "for k in konstanten:\n",
    "    print(k, f\"{konstanten[k]:0.2f}\")"
   ]
  },
  {
   "cell_type": "code",
   "execution_count": 40,
   "metadata": {},
   "outputs": [
    {
     "name": "stdout",
     "output_type": "stream",
     "text": [
      "{1, 2, 3, 5}\n"
     ]
    }
   ],
   "source": [
    "zahlen1 = [1,1,2,3,5,8]\n",
    "zahlen2 = [1,2,3,4,5]\n",
    "\n",
    "print(set(zahlen1).intersection(set(zahlen2)))\n",
    "\n"
   ]
  },
  {
   "cell_type": "code",
   "execution_count": 47,
   "metadata": {},
   "outputs": [
    {
     "name": "stdout",
     "output_type": "stream",
     "text": [
      "0 1\n",
      "4 5\n"
     ]
    }
   ],
   "source": [
    "n = min(len(zahlen1),len(zahlen2))\n",
    "for i in range(n):\n",
    "    if zahlen1[i] == zahlen2[i]:\n",
    "        print(i, zahlen1[i])"
   ]
  },
  {
   "cell_type": "code",
   "execution_count": 115,
   "metadata": {},
   "outputs": [
    {
     "name": "stdout",
     "output_type": "stream",
     "text": [
      "[0, 1, 1, 2, 3, 5, 8, 13, 21, 34, 55, 89, 144, 233, 377, 610, 987, 1597, 2584, 4181]\n",
      "48.5 µs ± 4.41 µs per loop (mean ± std. dev. of 7 runs, 10000 loops each)\n"
     ]
    }
   ],
   "source": [
    "goldener_schnitt = (1/2)*(1+math.sqrt(5))\n",
    "\n",
    "def fib(n):\n",
    "    '''\n",
    "        creates a list with the n first fibonacci numers and returns it\n",
    "    '''\n",
    "    fib_n = []\n",
    "    for i in range(n):\n",
    "        fib_n.append(round((1/math.sqrt(5)*((goldener_schnitt**i)-((-1)**i)/goldener_schnitt**i))))\n",
    "    return fib_n\n",
    "    \n",
    "print(fib(20))\n",
    "%timeit fib(20)"
   ]
  },
  {
   "cell_type": "code",
   "execution_count": 117,
   "metadata": {},
   "outputs": [
    {
     "name": "stdout",
     "output_type": "stream",
     "text": [
      "[0, 1, 1, 2, 3, 5, 8, 13, 21, 34, 55, 89, 144, 233, 377, 610, 987, 1597, 2584, 4181]\n",
      "4.89 µs ± 716 ns per loop (mean ± std. dev. of 7 runs, 100000 loops each)\n"
     ]
    }
   ],
   "source": [
    "def fib(n):\n",
    "    fib_n = []\n",
    "    x0,x1 = 0,1\n",
    "    for i in range(n):\n",
    "        fib_n.append(x0) \n",
    "        sum= x0+x1\n",
    "        x0=x1\n",
    "        x1=sum\n",
    "    return fib_n\n",
    "    \n",
    "print(fib_20)\n",
    "%timeit fib(20)"
   ]
  },
  {
   "cell_type": "code",
   "execution_count": 130,
   "metadata": {},
   "outputs": [
    {
     "name": "stdout",
     "output_type": "stream",
     "text": [
      "5.36 ms ± 362 µs per loop (mean ± std. dev. of 7 runs, 100 loops each)\n"
     ]
    }
   ],
   "source": [
    "fib_n = []\n",
    "def fib(n):\n",
    "    if n == 0:\n",
    "        return 0\n",
    "    elif n == 1:\n",
    "        return 1\n",
    "    else:\n",
    "        return (fib(n-1) + fib(n-2))\n",
    "fib(20)\n",
    "\n",
    "%timeit fib(20)"
   ]
  },
  {
   "cell_type": "code",
   "execution_count": 149,
   "metadata": {},
   "outputs": [
    {
     "name": "stdout",
     "output_type": "stream",
     "text": [
      "1\n",
      "2\n",
      "3\n",
      "4\n",
      "fizz\n",
      "6\n",
      "buzz\n",
      "8\n",
      "9\n",
      "fizz\n",
      "11\n",
      "12\n",
      "13\n",
      "buzz\n",
      "fizz\n",
      "16\n",
      "17\n",
      "18\n",
      "19\n",
      "fizz\n",
      "buzz\n",
      "22\n",
      "23\n",
      "24\n",
      "fizz\n",
      "26\n",
      "27\n",
      "buzz\n",
      "29\n",
      "fizz\n",
      "31\n",
      "32\n",
      "33\n",
      "34\n",
      "fizzbuz\n",
      "36\n",
      "37\n",
      "38\n",
      "39\n",
      "fizz\n",
      "41\n",
      "buzz\n",
      "43\n",
      "44\n",
      "fizz\n",
      "46\n",
      "47\n",
      "48\n",
      "buzz\n",
      "fizz\n",
      "51\n",
      "52\n",
      "53\n",
      "54\n",
      "fizz\n",
      "buzz\n",
      "57\n",
      "58\n",
      "59\n",
      "fizz\n",
      "61\n",
      "62\n",
      "buzz\n",
      "64\n",
      "fizz\n",
      "66\n",
      "67\n",
      "68\n",
      "69\n",
      "fizzbuz\n",
      "71\n",
      "72\n",
      "73\n",
      "74\n",
      "fizz\n",
      "76\n",
      "buzz\n",
      "78\n",
      "79\n",
      "fizz\n",
      "81\n",
      "82\n",
      "83\n",
      "buzz\n",
      "fizz\n",
      "86\n",
      "87\n",
      "88\n",
      "89\n",
      "fizz\n",
      "buzz\n",
      "92\n",
      "93\n",
      "94\n",
      "fizz\n",
      "96\n",
      "97\n",
      "buzz\n",
      "99\n",
      "fizz\n"
     ]
    }
   ],
   "source": [
    "def fizzbuzz(n):\n",
    "    for i in range(1,n+1):\n",
    "        if (i%5 == 0)&(i%7==0):\n",
    "            print('fizzbuz')\n",
    "        elif (i%5 == 0):\n",
    "            print('fizz')\n",
    "        elif (i%7 == 0):\n",
    "            print('buzz')\n",
    "        else: print(i)\n",
    "        \n",
    "fizzbuzz(100)"
   ]
  },
  {
   "cell_type": "code",
   "execution_count": 104,
   "metadata": {},
   "outputs": [
    {
     "data": {
      "text/plain": [
       "9.275492914956885"
      ]
     },
     "execution_count": 104,
     "metadata": {},
     "output_type": "execute_result"
    }
   ],
   "source": []
  },
  {
   "cell_type": "code",
   "execution_count": null,
   "metadata": {},
   "outputs": [],
   "source": []
  }
 ],
 "metadata": {
  "kernelspec": {
   "display_name": "Python 3",
   "language": "python",
   "name": "python3"
  },
  "language_info": {
   "codemirror_mode": {
    "name": "ipython",
    "version": 3
   },
   "file_extension": ".py",
   "mimetype": "text/x-python",
   "name": "python",
   "nbconvert_exporter": "python",
   "pygments_lexer": "ipython3",
   "version": "3.6.8"
  }
 },
 "nbformat": 4,
 "nbformat_minor": 2
}
