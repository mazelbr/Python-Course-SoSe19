{
 "cells": [
  {
   "cell_type": "code",
   "execution_count": 1,
   "metadata": {},
   "outputs": [],
   "source": [
    "import os\n"
   ]
  },
  {
   "cell_type": "code",
   "execution_count": 2,
   "metadata": {},
   "outputs": [],
   "source": [
    "def create_or_append(value, list=[1,2]):\n",
    "    \"\"\"Return the value as part of the list\"\"\"\n",
    "    list.append(value)\n",
    "    return list"
   ]
  },
  {
   "cell_type": "code",
   "execution_count": 9,
   "metadata": {},
   "outputs": [
    {
     "name": "stdout",
     "output_type": "stream",
     "text": [
      "[4, 4, 4, 5, 4, 5, 4]\n"
     ]
    }
   ],
   "source": [
    "print(create_or_append(4))"
   ]
  },
  {
   "cell_type": "code",
   "execution_count": 8,
   "metadata": {},
   "outputs": [
    {
     "name": "stdout",
     "output_type": "stream",
     "text": [
      "[4, 4, 4, 5, 4, 5]\n"
     ]
    }
   ],
   "source": [
    "print(create_or_append(5))"
   ]
  },
  {
   "cell_type": "code",
   "execution_count": null,
   "metadata": {},
   "outputs": [],
   "source": [
    "d"
   ]
  },
  {
   "cell_type": "code",
   "execution_count": 11,
   "metadata": {},
   "outputs": [],
   "source": [
    "class Person:\n",
    "    name = \"Kane Doe\"\n",
    "    \n",
    "    def print_name(self):\n",
    "        print(self.name)"
   ]
  },
  {
   "cell_type": "code",
   "execution_count": 15,
   "metadata": {},
   "outputs": [],
   "source": [
    "p1 = Person()\n",
    "p2 = Person()"
   ]
  },
  {
   "cell_type": "code",
   "execution_count": 16,
   "metadata": {},
   "outputs": [
    {
     "name": "stdout",
     "output_type": "stream",
     "text": [
      "Kane Doe\n"
     ]
    }
   ],
   "source": [
    "p1.print_name()"
   ]
  },
  {
   "cell_type": "code",
   "execution_count": 23,
   "metadata": {},
   "outputs": [],
   "source": [
    "class Vehicle:\n",
    "    def __init__(self, seats):\n",
    "        self.seats = seats\n",
    "    \n",
    "    def get_num_seats(self):\n",
    "        return self.seats\n",
    "    \n",
    "    \n",
    "class Bike(Vehicle):\n",
    "    def __init__(self):\n",
    "        super().__init__(1)\n",
    "        \n",
    "        \n",
    "class Car(Vehicle):\n",
    "    def __init__(self, doors, seats):\n",
    "        super().__init__(seats)\n",
    "        self._doors = doors\n",
    "        \n",
    "    def get_num_doors(self):\n",
    "        return self._doors"
   ]
  },
  {
   "cell_type": "code",
   "execution_count": 24,
   "metadata": {},
   "outputs": [],
   "source": [
    "my_car = Car(4,5)\n",
    "my_bike = Bike()\n",
    "my_other_vec = Vehicle(45)"
   ]
  },
  {
   "cell_type": "code",
   "execution_count": 26,
   "metadata": {},
   "outputs": [
    {
     "name": "stdout",
     "output_type": "stream",
     "text": [
      "my car has 5 seats\n",
      "my bike has 1 seats\n",
      "my car has 4 doors\n"
     ]
    }
   ],
   "source": [
    "print(f\"my car has {my_car.get_num_seats()} seats\")\n",
    "print(f\"my bike has {my_bike.get_num_seats()} seats\")\n",
    "print(f\"my car has {my_car.get_num_doors()} doors\")"
   ]
  },
  {
   "cell_type": "code",
   "execution_count": null,
   "metadata": {},
   "outputs": [],
   "source": []
  }
 ],
 "metadata": {
  "kernelspec": {
   "display_name": "Python 3",
   "language": "python",
   "name": "python3"
  },
  "language_info": {
   "codemirror_mode": {
    "name": "ipython",
    "version": 3
   },
   "file_extension": ".py",
   "mimetype": "text/x-python",
   "name": "python",
   "nbconvert_exporter": "python",
   "pygments_lexer": "ipython3",
   "version": "3.6.8"
  }
 },
 "nbformat": 4,
 "nbformat_minor": 2
}
