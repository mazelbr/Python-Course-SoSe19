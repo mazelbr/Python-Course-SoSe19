{
 "cells": [
  {
   "cell_type": "code",
   "execution_count": 2,
   "metadata": {},
   "outputs": [
    {
     "name": "stdout",
     "output_type": "stream",
     "text": [
      "B\n",
      "['E', 'F', 'G']\n",
      "['P', 'Q', 'R', 'S', 'T', 'U', 'V']\n"
     ]
    },
    {
     "data": {
      "text/plain": [
       "'Y'"
      ]
     },
     "execution_count": 2,
     "metadata": {},
     "output_type": "execute_result"
    }
   ],
   "source": [
    "# 2.1\n",
    "arry = 'ABCDEFGHIJKLMNOPQRSTUVWXYZ'\n",
    "arry = list(arry)\n",
    "print(arry[1])\n",
    "print(arry[4:7])\n",
    "print(arry[15:22])\n",
    "arry[-2]"
   ]
  },
  {
   "cell_type": "code",
   "execution_count": 44,
   "metadata": {},
   "outputs": [
    {
     "name": "stdout",
     "output_type": "stream",
     "text": [
      "2.7183\n",
      "          \"Stringformatierung\"\n",
      "               \"ist praktisch\"\n",
      "          \"Stringformatierung\"\n",
      "               \"ist praktisch\"\n"
     ]
    }
   ],
   "source": [
    "#2.2\n",
    "zahl = 2.7182818284\n",
    "print(f\"{zahl:.4f}\")\n",
    "print('\"Stringformatierung\"'.rjust(30))\n",
    "print('\"ist praktisch\"'.rjust(30))\n",
    "String1 = '\"Stringformatierung\"'\n",
    "print(f\"{String1:>30}\")\n",
    "String2 = '\"ist praktisch\"'\n",
    "print(f\"{String2:>30}\")"
   ]
  },
  {
   "cell_type": "code",
   "execution_count": 58,
   "metadata": {},
   "outputs": [
    {
     "name": "stdout",
     "output_type": "stream",
     "text": [
      "29\n",
      "False\n"
     ]
    }
   ],
   "source": [
    "#2.3\n",
    "aufgabentext = \"Erstellen Sie eine Liste, die die Worte dieser Aufgabenstellung als Elemente beinhaltet. Geben Sie die Länge der Liste aus. Überprüfen Sie, ob das Wort \\\"Element\\\" in der Liste auftaucht.\"\n",
    "aufgabentext = aufgabentext.split()\n",
    "print(len(aufgabentext))\n",
    "print(\"Element\" in aufgabentext)\n"
   ]
  },
  {
   "cell_type": "code",
   "execution_count": 73,
   "metadata": {},
   "outputs": [
    {
     "data": {
      "text/plain": [
       "[2, 3, 5, 7, 11, 13]"
      ]
     },
     "execution_count": 73,
     "metadata": {},
     "output_type": "execute_result"
    }
   ],
   "source": [
    "#2.4\n",
    "zahlen = [2,3,5,7,9,11,13,14,15]\n",
    "zahlen.remove(9)\n",
    "del zahlen[-2]\n",
    "zahlen.pop()\n",
    "zahlen"
   ]
  },
  {
   "cell_type": "code",
   "execution_count": 76,
   "metadata": {},
   "outputs": [
    {
     "data": {
      "text/plain": [
       "[1, 2, 3, 4, 6, 8, 'hello']"
      ]
     },
     "execution_count": 76,
     "metadata": {},
     "output_type": "execute_result"
    }
   ],
   "source": [
    "#2.5\n",
    "list(set([1, 1, 2, 2, 3, 3, 4, 4, 6, 6, 8, 8, \"hello\", \"hello\"]))"
   ]
  },
  {
   "cell_type": "code",
   "execution_count": 80,
   "metadata": {},
   "outputs": [
    {
     "name": "stdout",
     "output_type": "stream",
     "text": [
      "Help on class zip in module builtins:\n",
      "\n",
      "class zip(object)\n",
      " |  zip(iter1 [,iter2 [...]]) --> zip object\n",
      " |  \n",
      " |  Return a zip object whose .__next__() method returns a tuple where\n",
      " |  the i-th element comes from the i-th iterable argument.  The .__next__()\n",
      " |  method continues until the shortest iterable in the argument sequence\n",
      " |  is exhausted and then it raises StopIteration.\n",
      " |  \n",
      " |  Methods defined here:\n",
      " |  \n",
      " |  __getattribute__(self, name, /)\n",
      " |      Return getattr(self, name).\n",
      " |  \n",
      " |  __iter__(self, /)\n",
      " |      Implement iter(self).\n",
      " |  \n",
      " |  __new__(*args, **kwargs) from builtins.type\n",
      " |      Create and return a new object.  See help(type) for accurate signature.\n",
      " |  \n",
      " |  __next__(self, /)\n",
      " |      Implement next(self).\n",
      " |  \n",
      " |  __reduce__(...)\n",
      " |      Return state information for pickling.\n",
      "\n"
     ]
    }
   ],
   "source": [
    "keys = [\"one\", \"two\", \"three\", \"four\", \"five\", \"six\", \"seven\"]\n",
    "values = [1, 2, 3, 4, 5, 6, 7]\n",
    "help(zip)\n",
    "dictionary = dict(zip(keys,values))"
   ]
  },
  {
   "cell_type": "code",
   "execution_count": 86,
   "metadata": {},
   "outputs": [
    {
     "name": "stdout",
     "output_type": "stream",
     "text": [
      "2 1\n"
     ]
    }
   ],
   "source": [
    "#2.7\n",
    "a,b=1,2\n",
    "a,b = tulpel= b,a\n",
    "#a,b = tulpel\n",
    "print(a,b)"
   ]
  },
  {
   "cell_type": "code",
   "execution_count": 5,
   "metadata": {},
   "outputs": [
    {
     "name": "stdout",
     "output_type": "stream",
     "text": [
      "(2, 1)\n"
     ]
    }
   ],
   "source": [
    "a,b=1,2\n",
    "a,b =b,a\n",
    "print(tulpel)"
   ]
  },
  {
   "cell_type": "code",
   "execution_count": null,
   "metadata": {},
   "outputs": [],
   "source": []
  }
 ],
 "metadata": {
  "kernelspec": {
   "display_name": "Python 3",
   "language": "python",
   "name": "python3"
  },
  "language_info": {
   "codemirror_mode": {
    "name": "ipython",
    "version": 3
   },
   "file_extension": ".py",
   "mimetype": "text/x-python",
   "name": "python",
   "nbconvert_exporter": "python",
   "pygments_lexer": "ipython3",
   "version": "3.6.8"
  }
 },
 "nbformat": 4,
 "nbformat_minor": 2
}
