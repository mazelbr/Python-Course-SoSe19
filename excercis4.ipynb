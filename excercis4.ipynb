{
 "cells": [
  {
   "cell_type": "code",
   "execution_count": 4,
   "metadata": {},
   "outputs": [],
   "source": [
    "def ggt(x,y,verbose = False):\n",
    "    '''\n",
    "        prints out the greates common divider of x and y\n",
    "        if verbose = True it prints out each step\n",
    "    '''\n",
    "    if x < y:\n",
    "        x,y=y,x\n",
    "    \n",
    "    while(y!=0):\n",
    "        r = x%y\n",
    "        if verbose:\n",
    "            print(f\"{x} = {x//y} * {y} + {r}\")\n",
    "        x=y\n",
    "        y=r\n",
    "    print(x)\n",
    "    \n",
    "        "
   ]
  },
  {
   "cell_type": "code",
   "execution_count": 6,
   "metadata": {},
   "outputs": [
    {
     "name": "stdout",
     "output_type": "stream",
     "text": [
      "1071 = 1 * 1029 + 42\n",
      "1029 = 24 * 42 + 21\n",
      "42 = 2 * 21 + 0\n",
      "21\n"
     ]
    }
   ],
   "source": [
    "ggt(1029,1071,True)"
   ]
  },
  {
   "cell_type": "code",
   "execution_count": 165,
   "metadata": {},
   "outputs": [],
   "source": [
    "class Suchbaum:\n",
    "    def __init__(self, startknoten):\n",
    "        '''\n",
    "            \n",
    "        '''\n",
    "        self.startknoten = startknoten\n",
    "        self.left_neighbour = None #probably not necessary just for clearify which attributes are used\n",
    "        self.right_neighbour = None\n",
    "        self.parent = None\n",
    "    \n",
    "    def __str__(self):\n",
    "        '''\n",
    "        prints out one instance of the tree with corresponding parent and children\n",
    "        '''\n",
    "        left_neighbour = None\n",
    "        right_neighbour = None\n",
    "        parent = None\n",
    "        if self.left_neighbour is not None:\n",
    "            left_neighbour = self.left_neighbour.startknoten\n",
    "        if self.right_neighbour is not None:\n",
    "            right_neighbour = self.right_neighbour.startknoten\n",
    "        if self.parent is not None:\n",
    "            parent = self.parent.startknoten\n",
    "        #print(type(self.parent))\n",
    "        return (f\"Startknoten: {self.startknoten} \\n Parent: {parent} \\n Left Child: {left_neighbour} | right child: {right_neighbour}\\n\")\n",
    "        #print(type(self))\n",
    "    \n",
    "    def __add__(self, element):\n",
    "        self.add_element(element)\n",
    "    \n",
    "    def __sub__(self, element):\n",
    "        self.remove_knoten(element)\n",
    "        \n",
    "    def __len__(self):\n",
    "        return self.get_length()\n",
    "    \n",
    "    def __repr__(self):\n",
    "        return self.get_str()\n",
    "       \n",
    "    def get_str(self):\n",
    "        '''\n",
    "            returns all elements of the tree as a string\n",
    "        '''\n",
    "        ret = str(self.startknoten)\n",
    "        if self.left_neighbour is not None:\n",
    "            ret += (\" \"+ self.left_neighbour.get_str())\n",
    "        if self.right_neighbour is not None:\n",
    "            ret += (\" \" + self.right_neighbour.get_str())\n",
    "        return ret\n",
    "    \n",
    "    def get_list(self):\n",
    "        '''\n",
    "            returns a sorted list of all elements\n",
    "        '''\n",
    "        element_list =  (self.get_str().split(' '))\n",
    "        for i,item in enumerate(element_list):\n",
    "            element_list[i] = int(item)\n",
    "        element_list.sort()\n",
    "        return element_list\n",
    "        \n",
    "     \n",
    "    def get_length(self):\n",
    "        '''\n",
    "            gets the depth of the tree\n",
    "        '''\n",
    "        i=1\n",
    "        left = 0\n",
    "        right = 0\n",
    "        if self.left_neighbour is not None:\n",
    "            left += self.left_neighbour.get_length()\n",
    "            \n",
    "        if self.right_neighbour is not None:\n",
    "            right += self.right_neighbour.get_length()\n",
    "            \n",
    "        i += max(left,right)\n",
    "        return i\n",
    "                \n",
    "                \n",
    "    def has_children(self):\n",
    "        '''\n",
    "            returns true if knot has children\n",
    "        '''\n",
    "        return (self.left_neighbour is not None) | (self.right_neighbour is not None)\n",
    "        \n",
    "        \n",
    "    def add_element(self, element):\n",
    "        '''\n",
    "            Methode zum hinzufügen neuer elemente\n",
    "        '''\n",
    "        knoten = Suchbaum(element) #craete new suchbaum from element\n",
    "        knoten.parent = self #set parent of new knoten to current suchbaum\n",
    "        if knoten.startknoten == self.startknoten:\n",
    "            print(f\"Knoten {element} bereits im Baum\")\n",
    "            return\n",
    "        \n",
    "        if knoten.startknoten < self.startknoten:\n",
    "            if self.left_neighbour is None: #checkt ob schon ein linker nachbar vorhanden ist\n",
    "                self.left_neighbour = knoten #wenn nicht dann wird der aktuelle knoten der linke nachbar\n",
    "            else: #wenn schon ein linker nachbar vorhanden ist\n",
    "                parent = self #unused?\n",
    "                self.left_neighbour.add_element(element) #rufe für den linken nachbarn wieder die funktion add element auf für d\n",
    "        if knoten.startknoten > self.startknoten:\n",
    "            if self.right_neighbour is None:\n",
    "                self.right_neighbour = knoten\n",
    "            else:\n",
    "                self.right_neighbour.add_element(element)\n",
    "    \n",
    "    def remove_knoten(self,element):\n",
    "        '''\n",
    "            methode zum löschen von elementen\n",
    "        '''\n",
    "        if self.startknoten == element:\n",
    "            print(f\"got element {element}\")\n",
    "            if self.has_children(): #wenn children vorhanden sind lösche diese\n",
    "                self.remove_children()\n",
    "            if self == self.parent.left_neighbour: #wenn element left_neighbour seines parents\n",
    "                print(f\"{self.startknoten} == linker nachbar des parents\")\n",
    "                self.parent.left_neighbour = None #setzte left_neighbour beim parent auf none da ja nicht mehr vorhanden\n",
    "            else:\n",
    "                self.parent.right_neighbour= None\n",
    "            del self\n",
    "            return\n",
    "            \n",
    "        if element < self.startknoten:\n",
    "            print(f\"{element} < {self.startknoten}\")\n",
    "            if self.left_neighbour is None:\n",
    "                print(f\"knoten {element} nicht im Baum\")\n",
    "                return\n",
    "            self.left_neighbour.remove_knoten(element)\n",
    "            \n",
    "        if element > self.startknoten:\n",
    "            print(f\"{element} > {self.startknoten}\")\n",
    "            if self.right_neighbour is None:\n",
    "                print(f\"knoten {element} nicht im Baum\")\n",
    "                return\n",
    "            self.left_neighbour.remove_knoten(element)\n",
    "            \n",
    "        \n",
    "            \n",
    "        #elif self\n",
    "           \n",
    "    def remove_children(self):\n",
    "        '''\n",
    "            calls remove_knoten on all children if they are existing\n",
    "        '''\n",
    "        if self.left_neighbour is not None:\n",
    "                self.left_neighbour.remove_knoten(self.left_neighbour.startknoten)\n",
    "        if self.right_neighbour is not None:\n",
    "                self.right_neighbour.remove_knoten(self.right_neighbour.startknoten)\n",
    "                \n",
    "                \n",
    "    "
   ]
  },
  {
   "cell_type": "code",
   "execution_count": 167,
   "metadata": {},
   "outputs": [
    {
     "name": "stdout",
     "output_type": "stream",
     "text": [
      "Startknoten: 5 \n",
      " Parent: None \n",
      " Left Child: 4 | right child: 6\n",
      "\n"
     ]
    },
    {
     "data": {
      "text/plain": [
       "[2, 3, 4, 5, 6, 9, 18]"
      ]
     },
     "execution_count": 167,
     "metadata": {},
     "output_type": "execute_result"
    }
   ],
   "source": [
    "suchbaum = Suchbaum(5)\n",
    "suchbaum.add_element(4)\n",
    "suchbaum.add_element(6)\n",
    "suchbaum.add_element(3)\n",
    "suchbaum.add_element(2)\n",
    "suchbaum.add_element(9)\n",
    "suchbaum.add_element(18)\n",
    "\n",
    "print(suchbaum)\n",
    "len(suchbaum)\n",
    "repr(suchbaum)\n",
    "suchbaum.get_list()"
   ]
  },
  {
   "cell_type": "code",
   "execution_count": null,
   "metadata": {},
   "outputs": [],
   "source": []
  },
  {
   "cell_type": "code",
   "execution_count": 88,
   "metadata": {},
   "outputs": [
    {
     "name": "stdout",
     "output_type": "stream",
     "text": [
      "Startknoten: 3 \n",
      " Parent: 4 \n",
      " Left Child: None | right child: None\n",
      "\n"
     ]
    }
   ],
   "source": [
    "print(suchbaum.left_neighbour.left_neighbour)"
   ]
  },
  {
   "cell_type": "code",
   "execution_count": 89,
   "metadata": {},
   "outputs": [
    {
     "name": "stdout",
     "output_type": "stream",
     "text": [
      "3 < 5\n",
      "3 < 4\n",
      "got element 3\n",
      "3 == linker nachbar des parents\n"
     ]
    }
   ],
   "source": [
    "suchbaum.remove_knoten(3)"
   ]
  },
  {
   "cell_type": "code",
   "execution_count": null,
   "metadata": {},
   "outputs": [],
   "source": []
  },
  {
   "cell_type": "code",
   "execution_count": null,
   "metadata": {},
   "outputs": [],
   "source": []
  }
 ],
 "metadata": {
  "kernelspec": {
   "display_name": "Python 3",
   "language": "python",
   "name": "python3"
  },
  "language_info": {
   "codemirror_mode": {
    "name": "ipython",
    "version": 3
   },
   "file_extension": ".py",
   "mimetype": "text/x-python",
   "name": "python",
   "nbconvert_exporter": "python",
   "pygments_lexer": "ipython3",
   "version": "3.6.8"
  }
 },
 "nbformat": 4,
 "nbformat_minor": 2
}
